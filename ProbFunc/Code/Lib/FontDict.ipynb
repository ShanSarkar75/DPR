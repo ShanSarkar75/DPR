{
 "cells": [
  {
   "cell_type": "markdown",
   "metadata": {},
   "source": [
    "## Reusable font dictionaries and Unicode Defination (GREEK_CHAR)\n",
    "\n",
    "**Author:** S. Sarkar\n",
    "\n",
    "**Version:** 0.00\n",
    "\n",
    "**Release:** Aug/2025\n",
    "\n",
    "---"
   ]
  },
  {
   "cell_type": "markdown",
   "metadata": {},
   "source": [
    "This module defines reusable font dictionaries and Unicode representations for Greek characters and integral symbols to standardize styling across plots \n",
    "and figures. Font presets are specified for different text elements such as axis labels, subtitles, and titles, using 'Times New Roman' for consistency. \n",
    "\n",
    "The Greek character mapping allows easy embedding of mathematical symbols in plots.\n"
   ]
  },
  {
   "cell_type": "markdown",
   "metadata": {},
   "source": [
    "### For Debugging"
   ]
  },
  {
   "cell_type": "code",
   "execution_count": 1,
   "metadata": {},
   "outputs": [],
   "source": [
    "DEBUG = False# True#  Default Set it False\n",
    "if DEBUG: import matplotlib.pyplot as plt\n"
   ]
  },
  {
   "cell_type": "code",
   "execution_count": 2,
   "metadata": {},
   "outputs": [],
   "source": [
    "# Constants - Special Character \n",
    "\n",
    "GREEK_CHAR = {\n",
    "  'Alpha'   :'\\u0391',\n",
    "  'Beta'    :'\\u0392' ,\n",
    "  'Gamma'   : '\\u0393',\n",
    "  'Delta'   : '\\u0394',\n",
    "  'Epsilon' : '\\u0395',\n",
    "  'Zeta'    : '\\u0396',\n",
    "  'Eta'     : '\\u0397',\n",
    "  'Theta'   : '\\u0398',\n",
    "  'Iota'    : '\\u0399',\n",
    "  'Kappa'   : '\\u039A',\n",
    "  'Lamda'   : '\\u039B',\n",
    "  'M: '     : '\\u039C',\n",
    "  'N: '     : '\\u039D',\n",
    "  'Xi'      : '\\u039E',\n",
    "  'Omicron' : '\\u039F',\n",
    "  'Pi'      : '\\u03A0',\n",
    "  'Rho'    : '\\u03A1',\n",
    "  'Sigma'    : '\\u03A3' ,\n",
    "  'Ta: '    : '\\u03A4',\n",
    "  'Upsilon'    : '\\u03A5' ,\n",
    "  'Phi'    : '\\u03A6',\n",
    "  'Chi'    : '\\u03A7',\n",
    "  'Psi'    : '\\u03A8',\n",
    "  'Omega'    : '\\u03A9',\n",
    "  'alpha'    : '\\u03B1',\n",
    "  'beta'    : '\\u03B2',\n",
    "  'gamma'    : '\\u03B3',\n",
    "  'delta'    : '\\u03B4',\n",
    "  'epsilon'    : '\\u03B5',\n",
    "  'zeta'    : '\\u03B6',\n",
    "  'eta'    : '\\u03B7',\n",
    "  'theta'    : '\\u03B8',\n",
    "  'iota'    : '\\u03B9' ,\n",
    "  'kappa'    : '\\u03BA',\n",
    "  'lamda'    : '\\u03BB',\n",
    "  'mu'    : '\\u03BC',\n",
    "  'n: '    : '\\u03BD',\n",
    "  'xi'    : '\\u03BE' ,\n",
    "  'omicron'    : '\\u03BF' ,\n",
    "  'pi'   : '\\u03C0',\n",
    "  'rho'    : '\\u03C1' ,\n",
    "  'sigma'    : '\\u03C3',\n",
    "  'ta: '    : '\\u03C4',\n",
    "  'upsilon'    : '\\u03C5',\n",
    "  'phi'    : '\\u03C6',\n",
    "  'chi'    : '\\u03C7',\n",
    "  'psi'    : '\\u03C8',\n",
    "  'omega' : '\\u03C9',\n",
    "}\n",
    "\n",
    "# Define the integral symbol and the function\n",
    "INTEGRAL = \"\\u222B\"\n"
   ]
  },
  {
   "cell_type": "markdown",
   "metadata": {},
   "source": [
    "## Font Dictionary (Definations) "
   ]
  },
  {
   "cell_type": "code",
   "execution_count": 3,
   "metadata": {},
   "outputs": [],
   "source": [
    "FontSmall = {'family': \"Times New Roman\",\n",
    "            'color' :  'k',\n",
    "            'weight': 'normal',\n",
    "            'size'  : 7.5};\n",
    "FontNorm9 = {'family': \"Times New Roman\",\n",
    "            'color' :  'k',\n",
    "            'weight': 'normal',\n",
    "            'size'  : 9};\n",
    "\n",
    "FontNorm10 = {'family': \"Times New Roman\",\n",
    "              'color' :  'k',\n",
    "              'weight': 'normal',\n",
    "              'size'  : 10};\n",
    "\n",
    "FontNorm11 = {'family': \"Times New Roman\",\n",
    "              'color' :  'k',\n",
    "              'weight': 'normal',\n",
    "              'size'  : 11};\n",
    "\n",
    "FontNorm12 = {'family': \"Times New Roman\",\n",
    "              'color' :  'k',\n",
    "              'weight': 'normal',\n",
    "              'size'  : 12};\n",
    "\n",
    "SubTitleFont = {'family': \"Times New Roman\",\n",
    "                'color' :  'k',\n",
    "                'weight': 'bold',\n",
    "                'size'  : 12};\n",
    "\n",
    "MainTitleFont = {'family': \"Times New Roman\",\n",
    "                 'color' :  'k',\n",
    "                 'weight': 'bold',\n",
    "                 'size'  :  16};\n",
    "\n"
   ]
  },
  {
   "cell_type": "markdown",
   "metadata": {},
   "source": [
    "## Test Code"
   ]
  },
  {
   "cell_type": "code",
   "execution_count": 4,
   "metadata": {},
   "outputs": [],
   "source": [
    "if DEBUG:\n",
    "    fonts = {\n",
    "        'FontSmall': FontSmall,\n",
    "        'FontNorm9': FontNorm9,\n",
    "        'FontNorm10': FontNorm10,\n",
    "        'FontNorm11': FontNorm11,\n",
    "        'FontNorm12': FontNorm12,\n",
    "        'SubTitleFont': SubTitleFont,\n",
    "        'MainTitleFont': MainTitleFont,\n",
    "    }    \n",
    "    fig, ax = plt.subplots(figsize=(8, 6))\n",
    "\n",
    "    y_pos = 0.9  # Start near top of plot\n",
    "    y_step = 0.1\n",
    "\n",
    "    for i, (name, fontdict) in enumerate(fonts.items()):\n",
    "        ax.text(0.1, y_pos - i * y_step, f\"This is {name}\", fontdict=fontdict)\n",
    "\n",
    "    ax.set_xlim(0, 1)\n",
    "    ax.set_ylim(0, 1)\n",
    "    \n",
    "#---------------------------------------------------------\n",
    "    print(f'INTEGRAL: {INTEGRAL}')\n",
    "    for key in GREEK_CHAR:\n",
    "        print(f\"{key}: {GREEK_CHAR[key]}\")    "
   ]
  },
  {
   "cell_type": "code",
   "execution_count": null,
   "metadata": {},
   "outputs": [],
   "source": []
  }
 ],
 "metadata": {
  "anaconda-cloud": {},
  "kernelspec": {
   "display_name": "Python 3 (ipykernel)",
   "language": "python",
   "name": "python3"
  },
  "language_info": {
   "codemirror_mode": {
    "name": "ipython",
    "version": 3
   },
   "file_extension": ".py",
   "mimetype": "text/x-python",
   "name": "python",
   "nbconvert_exporter": "python",
   "pygments_lexer": "ipython3",
   "version": "3.8.12"
  }
 },
 "nbformat": 4,
 "nbformat_minor": 4
}
